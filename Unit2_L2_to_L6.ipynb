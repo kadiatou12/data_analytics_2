{
  "nbformat": 4,
  "nbformat_minor": 0,
  "metadata": {
    "colab": {
      "name": "Unit2_L2 to L6",
      "provenance": [],
      "collapsed_sections": [],
      "authorship_tag": "ABX9TyMRc0CqsVlW0Rslbf7O9k6P",
      "include_colab_link": true
    },
    "kernelspec": {
      "display_name": "Python 3",
      "name": "python3"
    },
    "language_info": {
      "name": "python"
    }
  },
  "cells": [
    {
      "cell_type": "markdown",
      "metadata": {
        "id": "view-in-github",
        "colab_type": "text"
      },
      "source": [
        "<a href=\"https://colab.research.google.com/github/kadiatou12/data_analytics_2/blob/main/Unit2_L2_to_L6.ipynb\" target=\"_parent\"><img src=\"https://colab.research.google.com/assets/colab-badge.svg\" alt=\"Open In Colab\"/></a>"
      ]
    },
    {
      "cell_type": "markdown",
      "metadata": {
        "id": "YmB6IeqRMjwJ"
      },
      "source": [
        "**Unit2_L2**"
      ]
    },
    {
      "cell_type": "markdown",
      "metadata": {
        "id": "kfojelt-Fy4r"
      },
      "source": [
        "Q1.\tWhat is Python and why is it useful?\n",
        "Python is general purpose, interpreted, interactive,object-oriented, and high-level programming language\n",
        "\n",
        "\n",
        "Python can work on very, very large datasets – with ease! It\n",
        "makes analyzing data – from a few thousand rows to a few\n",
        "million rows very easy.\n",
        "It can perform complex operations – from machine learning, to\n",
        "web development.\n",
        "Python’s code can be saved and re-run – making processes\n",
        "automated and a huge time saver.\n",
        "\n",
        "Q2.\tAre the following variable names allowed in python?\n",
        "a.\t1_message\n",
        "b.\tGreeting_message\n",
        "c.\tMessage_1\n",
        "d.\tFirst name\n",
        "e.\tFull_name\n",
        "\n",
        "ANS. None of these variables are allowed in python.\n"
      ]
    },
    {
      "cell_type": "code",
      "metadata": {
        "colab": {
          "base_uri": "https://localhost:8080/"
        },
        "id": "CSRZFJqEIf0F",
        "outputId": "a573427f-bcac-4bd3-cbcb-08e43a2537dc"
      },
      "source": [
        "text= \"hello there\"\n",
        "print(text)"
      ],
      "execution_count": null,
      "outputs": [
        {
          "output_type": "stream",
          "text": [
            "hello there\n"
          ],
          "name": "stdout"
        }
      ]
    },
    {
      "cell_type": "code",
      "metadata": {
        "colab": {
          "base_uri": "https://localhost:8080/"
        },
        "id": "zy6UM-RBJXkF",
        "outputId": "1247f943-e20b-49df-ca3f-390c66027513"
      },
      "source": [
        "first_name=\"kadiatou\"\n",
        "last_name=\"diallo\"\n",
        "full_name=first_name + \"\" + last_name + \"@gmail.com\"\n",
        "print(full_name)"
      ],
      "execution_count": null,
      "outputs": [
        {
          "output_type": "stream",
          "text": [
            "kadiatoudiallo@gmail.com\n"
          ],
          "name": "stdout"
        }
      ]
    },
    {
      "cell_type": "code",
      "metadata": {
        "colab": {
          "base_uri": "https://localhost:8080/"
        },
        "id": "nKvaSTZfKLp6",
        "outputId": "d7a4b127-df6b-4126-efe6-842528a2b469"
      },
      "source": [
        "name=\"aicha bah\"\n",
        "print(name.upper())\n",
        "print(name.lower())"
      ],
      "execution_count": null,
      "outputs": [
        {
          "output_type": "stream",
          "text": [
            "AICHA BAH\n",
            "aicha bah\n"
          ],
          "name": "stdout"
        }
      ]
    },
    {
      "cell_type": "code",
      "metadata": {
        "colab": {
          "base_uri": "https://localhost:8080/"
        },
        "id": "KSTrxiqdKyxK",
        "outputId": "dd026375-6ec8-4e65-c8f8-27ee10390116"
      },
      "source": [
        "message= \"Do you want to hang out on the 15th of this month\"\n",
        "print(message)"
      ],
      "execution_count": null,
      "outputs": [
        {
          "output_type": "stream",
          "text": [
            "Do you want to hang out on the 15th of this month\n"
          ],
          "name": "stdout"
        }
      ]
    },
    {
      "cell_type": "markdown",
      "metadata": {
        "id": "4fB_J19BM0_G"
      },
      "source": [
        "**Unit2_L3**"
      ]
    },
    {
      "cell_type": "markdown",
      "metadata": {
        "id": "4HYKOluONEX2"
      },
      "source": [
        "Q1-Q5\n",
        "\n",
        "Sometimes, you don’t want your list to be permanently sorted – you can use\n",
        "the sorted() function to temporarily sort your list."
      ]
    },
    {
      "cell_type": "code",
      "metadata": {
        "colab": {
          "base_uri": "https://localhost:8080/"
        },
        "id": "yBt-1xsANDWv",
        "outputId": "a3f5d425-3900-40a0-f118-d0c03fd1e8eb"
      },
      "source": [
        "tvshows=['Blacklist', 'Criminal Minds','Resurrection:Ertugul', 'Arrow', 'The Vampire Diaries']\n",
        "print(tvshows)\n",
        "#classify = sorted(tvshows)\n",
        "#print(\"Sorted:\", classify)\n",
        "tvshows.sort()\n",
        "print(tvshows)\n",
        "\n",
        "tvshows.sort(reverse=True)\n",
        "print(tvshows)\n",
        "\n",
        "print(\"There are\", len(tvshows), \"of my favorite tv shows in this list\")\n",
        "\n",
        "\n",
        "\n",
        "\n",
        "#desc= sorted(tvshows,reverse=True)\n",
        "\n",
        "#print(\"Reverse order:\", desc)\n"
      ],
      "execution_count": null,
      "outputs": [
        {
          "output_type": "stream",
          "text": [
            "['Blacklist', 'Criminal Minds', 'Resurrection:Ertugul', 'Arrow', 'The Vampire Diaries']\n",
            "['Arrow', 'Blacklist', 'Criminal Minds', 'Resurrection:Ertugul', 'The Vampire Diaries']\n",
            "['The Vampire Diaries', 'Resurrection:Ertugul', 'Criminal Minds', 'Blacklist', 'Arrow']\n",
            "There are 5 of my favorite tv shows in this list\n"
          ],
          "name": "stdout"
        }
      ]
    },
    {
      "cell_type": "markdown",
      "metadata": {
        "id": "2c3CeucEYp_-"
      },
      "source": [
        "**Unit2_L4**\n",
        "\n",
        "Q1-Q3"
      ]
    },
    {
      "cell_type": "code",
      "metadata": {
        "colab": {
          "base_uri": "https://localhost:8080/"
        },
        "id": "jx6DKDU5ZQOc",
        "outputId": "b5ece8c2-e2bb-4b16-9a24-d1391475b6b9"
      },
      "source": [
        "fruits = [\"Mango\", \"Orange\", \"Pineapple\", \"Cherry\", \"Grapes\"]\n",
        "for x in fruits:\n",
        "  print(x)\n",
        "\n",
        "fruits = [\"Mango\", \"Orange\", \"Pineapple\", \"Cherry\", \"Grapes\"]\n",
        "for fruit in fruits:\n",
        "  print(fruit + \", is one of my favorite fruits!\")\n",
        "  "
      ],
      "execution_count": null,
      "outputs": [
        {
          "output_type": "stream",
          "text": [
            "Mango\n",
            "Orange\n",
            "Pineapple\n",
            "Cherry\n",
            "Grapes\n",
            "Mango, is one of my favorite fruits!\n",
            "Orange, is one of my favorite fruits!\n",
            "Pineapple, is one of my favorite fruits!\n",
            "Cherry, is one of my favorite fruits!\n",
            "Grapes, is one of my favorite fruits!\n"
          ],
          "name": "stdout"
        }
      ]
    },
    {
      "cell_type": "code",
      "metadata": {
        "colab": {
          "base_uri": "https://localhost:8080/"
        },
        "id": "zcPlqVxHfSa3",
        "outputId": "4cf6a8eb-db55-4cfc-c738-0b80864a0a64"
      },
      "source": [
        "for i in range (1,21):\n",
        "  if (i %2)==0:\n",
        "    print(i)\n",
        "for i in range (1,4):\n",
        "  print(i)\n",
        "\n",
        "for i in range (18,21):\n",
        "  print(i)"
      ],
      "execution_count": null,
      "outputs": [
        {
          "output_type": "stream",
          "text": [
            "2\n",
            "4\n",
            "6\n",
            "8\n",
            "10\n",
            "12\n",
            "14\n",
            "16\n",
            "18\n",
            "20\n",
            "1\n",
            "2\n",
            "3\n",
            "18\n",
            "19\n",
            "20\n"
          ],
          "name": "stdout"
        }
      ]
    },
    {
      "cell_type": "markdown",
      "metadata": {
        "id": "PqRkYZiql76S"
      },
      "source": [
        "**Unit2_L6**\n",
        "\n",
        "Q1_Q3\n"
      ]
    },
    {
      "cell_type": "code",
      "metadata": {
        "colab": {
          "base_uri": "https://localhost:8080/"
        },
        "id": "lrzFGSEYmSMn",
        "outputId": "727b3a48-24f1-4498-b18c-c7e00c2ca3da"
      },
      "source": [
        "student = {'first_name': 'Mariama', 'last_name':'Diallo'}\n",
        "print(student['first_name'])\n",
        "print(student['last_name'])\n",
        "student_name = student['first_name'],['last_name']\n",
        "print(\"Hello my name is,\" ,student_name)\n"
      ],
      "execution_count": null,
      "outputs": [
        {
          "output_type": "stream",
          "text": [
            "Mariama\n",
            "Diallo\n",
            "Hello my name is, ('Mariama', ['last_name'])\n"
          ],
          "name": "stdout"
        }
      ]
    },
    {
      "cell_type": "markdown",
      "metadata": {
        "id": "cKm5wOvLq4on"
      },
      "source": [
        "Q4-Q5"
      ]
    },
    {
      "cell_type": "code",
      "metadata": {
        "colab": {
          "base_uri": "https://localhost:8080/"
        },
        "id": "gBxG7CRTpW4L",
        "outputId": "8b8f580c-ae94-4879-8fb9-845439eb59d7"
      },
      "source": [
        "student_2= {\n",
        "'first_name':'Hadiatou',\n",
        "'last_name':'Balde',}\n",
        "print(student_2)\n",
        "\n",
        "favorite_pets= {\n",
        "'sam':'cat',\n",
        "'john':'dog',\n",
        "'ricky':'snake'}\n",
        "\n",
        "friends=['sam','john','ricky']\n",
        "for name in favorite_pets.keys():\n",
        "  print(name.title())\n",
        "\n",
        "  if name in friends:\n",
        "    print('My favorite pet is ,' + favorite_pets[name])"
      ],
      "execution_count": null,
      "outputs": [
        {
          "output_type": "stream",
          "text": [
            "{'first_name': 'Hadiatou', 'last_name': 'Balde'}\n",
            "Sam\n",
            "My favorite pet is ,cat\n",
            "John\n",
            "My favorite pet is ,dog\n",
            "Ricky\n",
            "My favorite pet is ,snake\n"
          ],
          "name": "stdout"
        }
      ]
    }
  ]
}