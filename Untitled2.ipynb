{
  "nbformat": 4,
  "nbformat_minor": 0,
  "metadata": {
    "colab": {
      "name": "Untitled2.ipynb",
      "provenance": [],
      "collapsed_sections": [],
      "authorship_tag": "ABX9TyPsHEn0RxIDlBzxE7EhALsm",
      "include_colab_link": true
    },
    "kernelspec": {
      "name": "python3",
      "display_name": "Python 3"
    },
    "language_info": {
      "name": "python"
    }
  },
  "cells": [
    {
      "cell_type": "markdown",
      "metadata": {
        "id": "view-in-github",
        "colab_type": "text"
      },
      "source": [
        "<a href=\"https://colab.research.google.com/github/kadiatou12/data_analytics_2/blob/main/Untitled2.ipynb\" target=\"_parent\"><img src=\"https://colab.research.google.com/assets/colab-badge.svg\" alt=\"Open In Colab\"/></a>"
      ]
    },
    {
      "cell_type": "code",
      "metadata": {
        "colab": {
          "base_uri": "https://localhost:8080/"
        },
        "id": "m5AnUp9TyWe7",
        "outputId": "31edcc1e-9060-4985-8b9d-0d409b761d43"
      },
      "source": [
        "import random\n",
        "print(\" WELCOME TO ROCK-PAPER-SCISSOR \")\n",
        "i = input(\" Enter Your Choice : \")\n",
        "mylist = [\"Rock\",\"Paper\",\"Scissor\"]\n",
        "comp = random.choice(mylist)\n",
        "\n",
        "if i == \"rock\":\n",
        "\tif comp == \"Rock\":\n",
        "\t\tprint(comp)\n",
        "\t\tprint(\" Its Draw \")\n",
        "\telif comp == \"Paper\":\n",
        "\t\tprint(comp)\n",
        "\t\tprint(\"You Lose\")\n",
        "\telif comp == \"Scissor\":\n",
        "\t\tprint(comp)\n",
        "\t\tprint(\" You Win \")\n",
        "\n",
        "if i == \"paper\":\n",
        "\tif comp == \"Rock\":\n",
        "\t\tprint(comp)\n",
        "\t\tprint(\" You Win \")\n",
        "\telif comp == \"Paper\":\n",
        "\t\tprint(comp)\n",
        "\t\tprint(\"Its Draw\")\n",
        "\telif comp == \"Scissor\":\n",
        "\t\tprint(comp)\n",
        "\t\tprint(\" You Lose \")\n",
        "\n",
        "if i == \"scissor\":\n",
        "\tif comp == \"Rock\":\n",
        "\t\tprint(comp)\n",
        "\t\tprint(\" You Lose \")\n",
        "\telif comp == \"Paper\":\n",
        "\t\tprint(comp)\n",
        "\t\tprint(\"You Win\")\n",
        "\telif comp == \"Scissor\":\n",
        "\t\tprint(comp)\n",
        "\t\tprint(\" Its Draw \")\n"
      ],
      "execution_count": null,
      "outputs": [
        {
          "output_type": "stream",
          "text": [
            " WELCOME TO ROCK-PAPER-SCISSOR \n",
            " Enter Your Choice : scissor\n",
            "Scissor\n",
            " Its Draw \n"
          ],
          "name": "stdout"
        }
      ]
    }
  ]
}